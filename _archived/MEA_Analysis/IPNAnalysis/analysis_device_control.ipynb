{
 "cells": [
  {
   "cell_type": "code",
   "execution_count": 1,
   "metadata": {},
   "outputs": [],
   "source": [
    "import numpy as np\n",
    "import matplotlib.pyplot as plt\n",
    "from tsmoothie.smoother import GaussianSmoother\n",
    "import spikeinterface\n",
    "import spikeinterface.full as si\n",
    "import spikeinterface.extractors as se                                      \n",
    "import spikeinterface.sorters as ss\n",
    "import spikeinterface.comparison as sc\n",
    "import spikeinterface.widgets as sw\n",
    "import spikeinterface.postprocessing as sp\n",
    "import spikeinterface.preprocessing as spre\n",
    "import spikeinterface.qualitymetrics as qm\n",
    "import helper_functions as helper\n",
    "from spikeinterface.sorters import run_sorter_local"
   ]
  },
  {
   "cell_type": "code",
   "execution_count": null,
   "metadata": {},
   "outputs": [],
   "source": [
    "full_path = '/mnt/disk15tb/mmpatil/Axontracking/000026/data.raw.h5'\n",
    "rec_id = 0\n",
    "common_el = list(range(30000))\n",
    "while rec_id < 3: #True:\n",
    "    rec_name = 'rec' + '%0*d' % (4, rec_id)\n",
    "    try:   \n",
    "        rec = si.MaxwellRecordingExtractor(full_path,stream_name='well000',rec_name=rec_name)\n",
    "        rec_el = rec.get_property(\"contact_vector\")[\"electrode\"]\n",
    "        common_el = list(set(common_el).intersection(rec_el))\n",
    "        rec_id += 1\n",
    "    except Exception:\n",
    "        break\n",
    "            "
   ]
  },
  {
   "cell_type": "code",
   "execution_count": null,
   "metadata": {},
   "outputs": [],
   "source": [
    "rec_id\n"
   ]
  },
  {
   "cell_type": "code",
   "execution_count": null,
   "metadata": {},
   "outputs": [],
   "source": [
    "rec_list = []\n",
    "for r in range(rec_id): #rec_id\n",
    "    rec_name = 'rec' + '%0*d' % (4, r)\n",
    "    rec = si.MaxwellRecordingExtractor(full_path,stream_name='well000',rec_name=rec_name)\n",
    "    ch_id = rec.get_property(\"contact_vector\")['device_channel_indices']\n",
    "    rec_el = rec.get_property(\"contact_vector\")[\"electrode\"]\n",
    "    \n",
    "    chan_idx = [np.where(rec_el == el)[0][0] for el in common_el]\n",
    "    print(f'x{rec.get_property(\"contact_vector\")[\"x\"][chan_idx]}y{rec.get_property(\"contact_vector\")[\"y\"][chan_idx]}')\n",
    "    sel_channels = rec.get_channel_ids()[chan_idx]\n",
    "    rec_centered = si.filter(rec, band=[150,4999])\n",
    "    rec_list.append(rec_centered.channel_slice(sel_channels, renamed_channel_ids=list(range(len(chan_idx)))))\n",
    "\n",
    "multirecording = si.concatenate_recordings(rec_list)"
   ]
  },
  {
   "cell_type": "code",
   "execution_count": null,
   "metadata": {},
   "outputs": [],
   "source": [
    "full_path = '/mnt/disk20tb/PrimaryNeuronData/Maxtwo/Folic_Acid_T2/Folic_Acid_T2/240123/M07039/ActivityScan/000003/data.raw.h5'\n",
    "import h5py\n",
    "stream_id = \"well000\"\n",
    "h5 = h5py.File(full_path, mode=\"r\")\n",
    "rec_names = list(h5[\"wells\"][stream_id].keys())\n",
    "recs =list()\n",
    "for rec_name in rec_names:\n",
    "    recs.append(si.MaxwellRecordingExtractor(full_path,stream_name=stream_id,rec_name=rec_name))\n",
    "\n",
    "aggregated_rec = si.aggregate_channels(recs)\n",
    "print(aggregated_rec)"
   ]
  },
  {
   "cell_type": "code",
   "execution_count": null,
   "metadata": {},
   "outputs": [],
   "source": [
    "chan_idx"
   ]
  },
  {
   "cell_type": "code",
   "execution_count": null,
   "metadata": {},
   "outputs": [],
   "source": [
    "multirecording.get_channel_ids()"
   ]
  },
  {
   "cell_type": "code",
   "execution_count": null,
   "metadata": {},
   "outputs": [],
   "source": [
    "#Reading the file, BP filtering\n",
    "#path of the network file\n",
    "local_path= '/mnt/disk15tb/mmpatil/Axontracking/000026/data.raw.h5' #network data from chip 16848\n",
    "recordings =list()\n",
    "for recnames in ['rec0000', 'rec0001', 'rec0002', 'rec0003', 'rec0004', 'rec0005', 'rec0006', 'rec0007', 'rec0008', 'rec0009', 'rec0010', 'rec0011', 'rec0012', 'rec0013', 'rec0014', 'rec0015', 'rec0016', 'rec0017', 'rec0018', 'rec0019', 'rec0020', 'rec0021', 'rec0022', 'rec0023', 'rec0024', 'rec0025', 'rec0026', 'rec0027', 'rec0028', 'rec0029', 'rec0030', 'rec0031', 'rec0032', 'rec0033', 'rec0034', 'rec0035', 'rec0036', 'rec0037', 'rec0038', 'rec0039']:\n",
    "    recordings.append(se.read_maxwell(local_path,stream_id='well000',rec_name=recnames)) #well000 - well005 for maxtwo \n",
    "\n",
    "recording1 = si.aggregate_channels(recordings)\n",
    "\n",
    "#recording = si.ConcatenateSegmentRecording([recording1,recording2])\n",
    "channel_ids = recording1.get_channel_ids()\n",
    "fs = recording1.get_sampling_frequency()\n",
    "num_chan = recording1.get_num_channels()\n",
    "num_seg = recording1.get_num_segments()\n",
    "total_recording = recording1.get_total_duration()\n",
    "\n",
    "#print('Channel ids:', channel_ids)\n",
    "print('Sampling frequency:', fs)\n",
    "print('Number of channels:', num_chan)\n",
    "print('Number of segments:', num_seg)\n",
    "print(f\"total_recording: {total_recording} s\")\n",
    "\n",
    "recording_bp = spre.bandpass_filter(recording1, freq_min=300, freq_max=3000)\n",
    "\n",
    "recodring_cmr = spre.common_reference(recording_bp, reference='global', operator='median')\n",
    "#recording_chunk = recodring_cmr.frame_slice(start_frame= 1*fs,end_frame=425*fs)\n",
    "recording_chunk = recodring_cmr.frame_slice(start_frame= 0*fs,end_frame=180*fs)\n",
    "print(f\"chunk duration: {recording_chunk.get_total_duration()} s\")"
   ]
  },
  {
   "cell_type": "code",
   "execution_count": 3,
   "metadata": {},
   "outputs": [
    {
     "name": "stdout",
     "output_type": "stream",
     "text": [
      "Sampling frequency: 20000.0\n",
      "Number of channels: 988\n",
      "Number of segments: 1\n",
      "total_recording: 300.08 s\n",
      "chunk duration: 300.0 s\n"
     ]
    }
   ],
   "source": [
    "local_path= '/mnt/disk20tb/Organoids/Maxone/RTT_Organoids_T2_02022024_KMB/RTT_Organoids_T2_02022024_KMB/240222/19401/Network/000051/data.raw.h5' #network data from chip 16848\n",
    "\n",
    "\n",
    "recording1 = se.read_maxwell(local_path,stream_id='well000')\n",
    "\n",
    "#recording = si.ConcatenateSegmentRecording([recording1,recording2])\n",
    "channel_ids = recording1.get_channel_ids()\n",
    "fs = recording1.get_sampling_frequency()\n",
    "num_chan = recording1.get_num_channels()\n",
    "num_seg = recording1.get_num_segments()\n",
    "total_recording = recording1.get_total_duration()\n",
    "\n",
    "#print('Channel ids:', channel_ids)\n",
    "print('Sampling frequency:', fs)\n",
    "print('Number of channels:', num_chan)\n",
    "print('Number of segments:', num_seg)\n",
    "print(f\"total_recording: {total_recording} s\")\n",
    "\n",
    "recording_bp = spre.bandpass_filter(recording1, freq_min=300, freq_max=3000)\n",
    "\n",
    "recodring_cmr = spre.common_reference(recording_bp, reference='global', operator='median')\n",
    "#recording_chunk = recodring_cmr.frame_slice(start_frame= 1*fs,end_frame=425*fs)\n",
    "recording_chunk = recodring_cmr.frame_slice(start_frame= 0*fs,end_frame=300*fs)\n",
    "print(f\"chunk duration: {recording_chunk.get_total_duration()} s\")"
   ]
  },
  {
   "cell_type": "markdown",
   "metadata": {},
   "source": [
    "## RUnnig sorting"
   ]
  },
  {
   "cell_type": "code",
   "execution_count": null,
   "metadata": {},
   "outputs": [],
   "source": [
    "traces = recording_chunk.get_traces(start_frame=100, end_frame=50000*15, segment_index=0,return_scaled=True)\n"
   ]
  },
  {
   "cell_type": "code",
   "execution_count": null,
   "metadata": {},
   "outputs": [],
   "source": [
    "traces = recording_chunk.get_traces(start_frame=290500, end_frame=291800, segment_index=0,return_scaled=True)\n",
    "plt.figure(figsize=(12,2))\n",
    "plt.plot(traces[:,500])\n",
    "plt.savefig('/home/mmp/Documents/traces/fulltrace.svg',format='svg')\n",
    "plt.show()"
   ]
  },
  {
   "cell_type": "code",
   "execution_count": null,
   "metadata": {},
   "outputs": [],
   "source": [
    "traces = recording_chunk.get_traces(start_frame=278860, end_frame=278910, segment_index=0,return_scaled=True)\n",
    "plt.figure(figsize=(3,4))\n",
    "plt.plot(traces[:,500])\n",
    "plt.savefig('/home/mmp/Documents/traces/zoomedin.svg',format='svg')\n",
    "plt.show()"
   ]
  },
  {
   "cell_type": "code",
   "execution_count": 5,
   "metadata": {},
   "outputs": [
    {
     "name": "stdout",
     "output_type": "stream",
     "text": [
      "{'detect_threshold': 6, 'projection_threshold': [10, 4], 'preclust_threshold': 8, 'momentum': [20.0, 400.0], 'car': True, 'minFR': 0.1, 'minfr_goodchannels': 0.1, 'freq_min': 150, 'sigmaMask': 30, 'lam': 10.0, 'nPCs': 3, 'ntbuff': 64, 'nfilt_factor': 4, 'NT': None, 'AUCsplit': 0.9, 'wave_length': 61, 'keep_good_only': False, 'skip_kilosort_preprocessing': False, 'scaleproc': None, 'save_rez_to_mat': False, 'delete_tmp_files': ('matlab_files',), 'delete_recording_dat': False, 'n_jobs': 48, 'chunk_duration': '1s', 'progress_bar': True, 'mp_context': None, 'max_threads_per_process': 1}\n",
      "installation_mode='auto' switching to installation_mode: 'github'\n"
     ]
    },
    {
     "ename": "AssertionError",
     "evalue": "The container requires a NVIDIA GPU capability, but it is not available",
     "output_type": "error",
     "traceback": [
      "\u001b[0;31m---------------------------------------------------------------------------\u001b[0m",
      "\u001b[0;31mAssertionError\u001b[0m                            Traceback (most recent call last)",
      "Cell \u001b[0;32mIn[5], line 10\u001b[0m\n\u001b[1;32m      7\u001b[0m default_KS2_params[\u001b[38;5;124m'\u001b[39m\u001b[38;5;124mn_jobs\u001b[39m\u001b[38;5;124m'\u001b[39m] \u001b[38;5;241m=\u001b[39m \u001b[38;5;241m32\u001b[39m\n\u001b[1;32m      8\u001b[0m \u001b[38;5;66;03m# global_job_kwargs = dict(n_jobs=32, total_memory=\"8G\", progress_bar=True)\u001b[39;00m\n\u001b[1;32m      9\u001b[0m \u001b[38;5;66;03m# si.set_global_job_kwargs(**global_job_kwargs)\u001b[39;00m\n\u001b[0;32m---> 10\u001b[0m run_sorter \u001b[38;5;241m=\u001b[39m \u001b[43mss\u001b[49m\u001b[38;5;241;43m.\u001b[39;49m\u001b[43mrun_sorter\u001b[49m\u001b[43m(\u001b[49m\u001b[38;5;124;43m'\u001b[39;49m\u001b[38;5;124;43mkilosort2\u001b[39;49m\u001b[38;5;124;43m'\u001b[39;49m\u001b[43m,\u001b[49m\u001b[43mrecording\u001b[49m\u001b[38;5;241;43m=\u001b[39;49m\u001b[43mrecording1\u001b[49m\u001b[43m,\u001b[49m\u001b[43m \u001b[49m\u001b[43moutput_folder\u001b[49m\u001b[38;5;241;43m=\u001b[39;49m\u001b[38;5;124;43m\"\u001b[39;49m\u001b[38;5;124;43m./sorting/KMB_802F\u001b[39;49m\u001b[38;5;124;43m\"\u001b[39;49m\u001b[43m,\u001b[49m\u001b[43mdocker_image\u001b[49m\u001b[38;5;241;43m=\u001b[39;49m\u001b[43m \u001b[49m\u001b[38;5;124;43m\"\u001b[39;49m\u001b[38;5;124;43mrohanmalige/benshalom:v1\u001b[39;49m\u001b[38;5;124;43m\"\u001b[39;49m\u001b[43m,\u001b[49m\u001b[43mverbose\u001b[49m\u001b[38;5;241;43m=\u001b[39;49m\u001b[38;5;28;43;01mTrue\u001b[39;49;00m\u001b[43m,\u001b[49m\u001b[43m \u001b[49m\u001b[38;5;241;43m*\u001b[39;49m\u001b[38;5;241;43m*\u001b[39;49m\u001b[43mdefault_KS2_params\u001b[49m\u001b[43m)\u001b[49m\n\u001b[1;32m     12\u001b[0m \u001b[38;5;66;03m## if running on NERSC:\u001b[39;00m\n\u001b[1;32m     13\u001b[0m \u001b[38;5;66;03m#run_sorter_local(\"kilosort2\",recording_chunk, output_folder=\"./sorting/FolicAcid10mg\", delete_output_folder=False,verbose=True,with_output=True,**default_KS2_params)\u001b[39;00m\n\u001b[1;32m     14\u001b[0m \u001b[38;5;66;03m#run_sorter = ss.run_sorter('kilosort2',recording= recording_chunk, output_folder=\"/mnt/disk15tb/mmpatil/Spikesorting/sorter_output/kilosort2\",docker_image= True,verbose=True, **default_KS2_params)\u001b[39;00m\n",
      "File \u001b[0;32m~/.local/lib/python3.10/site-packages/spikeinterface/sorters/runsorter.py:168\u001b[0m, in \u001b[0;36mrun_sorter\u001b[0;34m(sorter_name, recording, output_folder, remove_existing_folder, delete_output_folder, verbose, raise_error, docker_image, singularity_image, delete_container_files, with_output, **sorter_params)\u001b[0m\n\u001b[1;32m    166\u001b[0m         \u001b[38;5;28;01melse\u001b[39;00m:\n\u001b[1;32m    167\u001b[0m             container_image \u001b[38;5;241m=\u001b[39m singularity_image\n\u001b[0;32m--> 168\u001b[0m     \u001b[38;5;28;01mreturn\u001b[39;00m \u001b[43mrun_sorter_container\u001b[49m\u001b[43m(\u001b[49m\n\u001b[1;32m    169\u001b[0m \u001b[43m        \u001b[49m\u001b[43mcontainer_image\u001b[49m\u001b[38;5;241;43m=\u001b[39;49m\u001b[43mcontainer_image\u001b[49m\u001b[43m,\u001b[49m\n\u001b[1;32m    170\u001b[0m \u001b[43m        \u001b[49m\u001b[43mmode\u001b[49m\u001b[38;5;241;43m=\u001b[39;49m\u001b[43mmode\u001b[49m\u001b[43m,\u001b[49m\n\u001b[1;32m    171\u001b[0m \u001b[43m        \u001b[49m\u001b[38;5;241;43m*\u001b[39;49m\u001b[38;5;241;43m*\u001b[39;49m\u001b[43mcommon_kwargs\u001b[49m\u001b[43m,\u001b[49m\n\u001b[1;32m    172\u001b[0m \u001b[43m    \u001b[49m\u001b[43m)\u001b[49m\n\u001b[1;32m    174\u001b[0m \u001b[38;5;28;01mreturn\u001b[39;00m run_sorter_local(\u001b[38;5;241m*\u001b[39m\u001b[38;5;241m*\u001b[39mcommon_kwargs)\n",
      "File \u001b[0;32m~/.local/lib/python3.10/site-packages/spikeinterface/sorters/runsorter.py:434\u001b[0m, in \u001b[0;36mrun_sorter_container\u001b[0;34m(sorter_name, recording, mode, container_image, output_folder, remove_existing_folder, delete_output_folder, verbose, raise_error, with_output, delete_container_files, extra_requirements, installation_mode, spikeinterface_version, spikeinterface_folder_source, **sorter_params)\u001b[0m\n\u001b[1;32m    432\u001b[0m \u001b[38;5;28;01mif\u001b[39;00m use_gpu:\n\u001b[1;32m    433\u001b[0m     \u001b[38;5;28;01mif\u001b[39;00m gpu_capability \u001b[38;5;241m==\u001b[39m \u001b[38;5;124m\"\u001b[39m\u001b[38;5;124mnvidia-required\u001b[39m\u001b[38;5;124m\"\u001b[39m:\n\u001b[0;32m--> 434\u001b[0m         \u001b[38;5;28;01massert\u001b[39;00m has_nvidia(), \u001b[38;5;124m\"\u001b[39m\u001b[38;5;124mThe container requires a NVIDIA GPU capability, but it is not available\u001b[39m\u001b[38;5;124m\"\u001b[39m\n\u001b[1;32m    435\u001b[0m         extra_kwargs[\u001b[38;5;124m\"\u001b[39m\u001b[38;5;124mcontainer_requires_gpu\u001b[39m\u001b[38;5;124m\"\u001b[39m] \u001b[38;5;241m=\u001b[39m \u001b[38;5;28;01mTrue\u001b[39;00m\n\u001b[1;32m    436\u001b[0m     \u001b[38;5;28;01melif\u001b[39;00m gpu_capability \u001b[38;5;241m==\u001b[39m \u001b[38;5;124m\"\u001b[39m\u001b[38;5;124mnvidia-optional\u001b[39m\u001b[38;5;124m\"\u001b[39m:\n",
      "\u001b[0;31mAssertionError\u001b[0m: The container requires a NVIDIA GPU capability, but it is not available"
     ]
    }
   ],
   "source": [
    "#aggregated_rec= aggregated_rec.save(fodler=\"./sorting/recordingtest\",progress_bar=True,verbose=True)\n",
    "default_KS2_params = ss.get_default_sorter_params('kilosort2')\n",
    "print(default_KS2_params)\n",
    "#default_KS2_params['keep_good_only'] = True\n",
    "# default_KS2_params['detect_threshold'] = 12\n",
    "# default_KS2_params['projection_threshold']=[18, 10]\n",
    "default_KS2_params['n_jobs'] = 32\n",
    "# global_job_kwargs = dict(n_jobs=32, total_memory=\"8G\", progress_bar=True)\n",
    "# si.set_global_job_kwargs(**global_job_kwargs)\n",
    "run_sorter = ss.run_sorter('kilosort2',recording=recording1, output_folder=\"./sorting/KMB_802F\",docker_image= \"rohanmalige/benshalom:v1\",verbose=True, **default_KS2_params)\n",
    "\n",
    "## if running on NERSC:\n",
    "#run_sorter_local(\"kilosort2\",recording_chunk, output_folder=\"./sorting/FolicAcid10mg\", delete_output_folder=False,verbose=True,with_output=True,**default_KS2_params)\n",
    "#run_sorter = ss.run_sorter('kilosort2',recording= recording_chunk, output_folder=\"/mnt/disk15tb/mmpatil/Spikesorting/sorter_output/kilosort2\",docker_image= True,verbose=True, **default_KS2_params)"
   ]
  },
  {
   "cell_type": "code",
   "execution_count": null,
   "metadata": {},
   "outputs": [],
   "source": [
    "\n",
    "# loading the KS2 sorted object\n",
    "sortingKS3 = run_sorter.remove_empty_units()\n",
    "sortingKS3 = spikeinterface.curation.remove_excess_spikes(sortingKS3,multirecording) #Sometimes KS returns spikes outside the number of samples. < https://github.com/SpikeInterface/spikeinterface/pull/1378>\n",
    "\n",
    "sortingKS3= sortingKS3.save(folder = './sorting/test_ks2',overwrite=True)\n",
    "#sorting_KS3 = s.Kilosort2Sorter._get_result_from_folder('./sorting/FolicAcidT2M07038_2_KS/sorter_output')\n",
    "total_units = sortingKS3.get_unit_ids()\n",
    "print(len(total_units))\n",
    "#print(len(total_units))\n",
    "channel_ids = recording_chunk.get_channel_ids()\n",
    "print(channel_ids)"
   ]
  },
  {
   "cell_type": "markdown",
   "metadata": {},
   "source": [
    "## Extracting the waveforms"
   ]
  },
  {
   "cell_type": "code",
   "execution_count": null,
   "metadata": {},
   "outputs": [],
   "source": [
    "\n",
    "job_kwargs = dict(n_jobs=32, chunk_duration=\"1s\", progress_bar=True)\n",
    "#waveforms = si.extract_waveforms(recording_chunk,sorting_KS3,folder=\"./waveformsblock1_7min\",overwrite=True, ms_before=1., ms_after=2.,**job_kwargs)\n",
    "waveforms = si.extract_waveforms(multirecording,sortingKS3,folder='./sorting/test_waveforms/',overwrite=True,**job_kwargs)\n",
    "print(waveforms)"
   ]
  },
  {
   "cell_type": "code",
   "execution_count": null,
   "metadata": {},
   "outputs": [],
   "source": [
    "si.export_to_phy(waveform_extractor=waveforms,output_folder='./sorting/SPTAN1_1_16793_phy',**job_kwargs)"
   ]
  },
  {
   "cell_type": "code",
   "execution_count": null,
   "metadata": {},
   "outputs": [],
   "source": []
  },
  {
   "cell_type": "code",
   "execution_count": null,
   "metadata": {},
   "outputs": [],
   "source": []
  },
  {
   "cell_type": "code",
   "execution_count": null,
   "metadata": {},
   "outputs": [],
   "source": [
    "extremum_channels_ids =si.get_template_extremum_channel(waveforms,peak_sign ='both',mode='at_index')"
   ]
  },
  {
   "cell_type": "code",
   "execution_count": null,
   "metadata": {},
   "outputs": [],
   "source": [
    "template = waveforms.get_template(5,mode='median')\n",
    "template.shape"
   ]
  },
  {
   "cell_type": "code",
   "execution_count": null,
   "metadata": {},
   "outputs": [],
   "source": [
    "waveforms = si.load_waveforms('/mnt/disk15tb/mmpatil/MEA_Analysis/IPNAnalysis/sorting/FolicAcidT2M07038_2_waveforms')\n",
    "print(waveforms)\n",
    "job_kwargs = dict(n_jobs=16, chunk_duration=\"1s\", progress_bar=True)\n",
    "sp.compute_spike_amplitudes(waveforms,load_if_exists=True,**job_kwargs)\n",
    "metrics = qm.compute_quality_metrics(waveforms,load_if_exists=False,**job_kwargs)"
   ]
  },
  {
   "cell_type": "code",
   "execution_count": null,
   "metadata": {},
   "outputs": [],
   "source": [
    "from spikeinterface.postprocessing import compute_spike_amplitudes, compute_principal_components\n",
    "from spikeinterface.exporters import export_to_phy\n",
    "\n",
    "\n",
    "_ = compute_principal_components(waveform_extractor=waveforms, n_components=3, mode='by_channel_global',**job_kwargs)\n",
    "\n",
    "# the export process is fast because everything is pre-computed\n"
   ]
  },
  {
   "cell_type": "code",
   "execution_count": null,
   "metadata": {},
   "outputs": [],
   "source": [
    "job_kwargs = dict(n_jobs=48, chunk_duration=\"1s\", progress_bar=True)\n",
    "sparsity = spikeinterface.core.compute_sparsity(waveforms ,method=\"radius\", radius_um=40)\n",
    "export_to_phy(waveform_extractor=waveforms, output_folder='/mnt/disk15tb/mmpatil/MEA_Analysis/IPNAnalysis/sorting/M07038_phy',sparsity=sparsity,**job_kwargs)"
   ]
  },
  {
   "cell_type": "code",
   "execution_count": null,
   "metadata": {},
   "outputs": [],
   "source": []
  },
  {
   "cell_type": "code",
   "execution_count": null,
   "metadata": {},
   "outputs": [],
   "source": [
    "display(update_qual_metrics)"
   ]
  },
  {
   "cell_type": "code",
   "execution_count": null,
   "metadata": {},
   "outputs": [],
   "source": [
    "print(non_violated_units)"
   ]
  },
  {
   "cell_type": "code",
   "execution_count": null,
   "metadata": {},
   "outputs": [],
   "source": [
    "len(non_violated_units)"
   ]
  },
  {
   "cell_type": "code",
   "execution_count": null,
   "metadata": {},
   "outputs": [],
   "source": [
    "waveform_good = waveforms.select_units(non_violated_units,new_folder='./sorting/FolicAcidT2M07038_2_waveformsgood/')"
   ]
  },
  {
   "cell_type": "code",
   "execution_count": null,
   "metadata": {},
   "outputs": [],
   "source": [
    "correlograms, bins = sp.compute_correlograms(waveform_good)"
   ]
  },
  {
   "cell_type": "code",
   "execution_count": null,
   "metadata": {},
   "outputs": [],
   "source": [
    "correlograms.shape"
   ]
  },
  {
   "cell_type": "code",
   "execution_count": null,
   "metadata": {},
   "outputs": [],
   "source": [
    "import matplotlib.pyplot as plt\n",
    "\n",
    "# Extracting the correlation values between units 2 and 5 across all bins\n",
    "# Adjusting indices for 0-based Python indexing\n",
    "correlations = correlograms[2, 2, :]\n",
    "\n",
    "# Plotting the histogram\n",
    "plt.figure(figsize=(8, 6))\n",
    "plt.hist(correlations, bins=20, color='blue', edgecolor='black')\n",
    "plt.title('Histogram of Correlations Between Units 2 and 5 Across Bins')\n",
    "plt.xlabel('Correlation Coefficient')\n",
    "plt.ylabel('Frequency')\n",
    "plt.show()"
   ]
  },
  {
   "cell_type": "code",
   "execution_count": null,
   "metadata": {},
   "outputs": [],
   "source": [
    "bins"
   ]
  },
  {
   "cell_type": "code",
   "execution_count": null,
   "metadata": {},
   "outputs": [],
   "source": [
    "metrics = qm.compute_quality_metrics(waveform_good,load_if_exists=False,**job_kwargs)"
   ]
  },
  {
   "cell_type": "code",
   "execution_count": null,
   "metadata": {},
   "outputs": [],
   "source": [
    "display(metrics)"
   ]
  },
  {
   "cell_type": "code",
   "execution_count": null,
   "metadata": {},
   "outputs": [],
   "source": [
    "waveform_good = None"
   ]
  },
  {
   "cell_type": "code",
   "execution_count": null,
   "metadata": {},
   "outputs": [],
   "source": [
    "waveform_good = si.load_waveforms('./sorting/waveformsgood_Folicacid10mg/')"
   ]
  },
  {
   "cell_type": "code",
   "execution_count": null,
   "metadata": {},
   "outputs": [],
   "source": [
    "metrics = qm.compute_quality_metrics(waveform_good,load_if_exists=False,**job_kwargs)"
   ]
  },
  {
   "cell_type": "code",
   "execution_count": null,
   "metadata": {},
   "outputs": [],
   "source": [
    "display(metrics)"
   ]
  },
  {
   "cell_type": "code",
   "execution_count": null,
   "metadata": {},
   "outputs": [],
   "source": []
  },
  {
   "cell_type": "code",
   "execution_count": null,
   "metadata": {},
   "outputs": [],
   "source": [
    "\n",
    "#locations = sp.compute_unit_locations(waveforms)\n",
    "locations = sp.compute_unit_locations(waveforms)\n",
    "print(type(locations))\n",
    "\n",
    "#np.savetxt(\"unitloc_10mins.txt\",locations)\n",
    "fig,ax = plt.subplots(figsize=(10.5,6.5))\n",
    "#sw.plot_probe_map(mu,ax=ax,with_channel_ids=False)\n",
    "ax.set_facecolor('#000000') \n",
    "for x,y,z in locations:\n",
    "    ax.scatter(x,y, s=5,c='deepskyblue')\n",
    "ax.invert_yaxis()\n",
    "plt.savefig(f'/home/mmp/Documents/multirecordingssort/axontrackingsort.svg',format='svg')"
   ]
  },
  {
   "cell_type": "code",
   "execution_count": null,
   "metadata": {},
   "outputs": [],
   "source": []
  }
 ],
 "metadata": {
  "kernelspec": {
   "display_name": "Python 3",
   "language": "python",
   "name": "python3"
  },
  "language_info": {
   "codemirror_mode": {
    "name": "ipython",
    "version": 3
   },
   "file_extension": ".py",
   "mimetype": "text/x-python",
   "name": "python",
   "nbconvert_exporter": "python",
   "pygments_lexer": "ipython3",
   "version": "3.10.12"
  },
  "orig_nbformat": 4
 },
 "nbformat": 4,
 "nbformat_minor": 2
}

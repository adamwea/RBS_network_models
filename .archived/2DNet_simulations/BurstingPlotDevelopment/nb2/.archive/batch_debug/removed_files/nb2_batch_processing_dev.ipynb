{
 "cells": [
  {
   "cell_type": "code",
   "execution_count": 2,
   "metadata": {},
   "outputs": [
    {
     "name": "stdout",
     "output_type": "stream",
     "text": [
      "/mnt/disk15tb/adam/git_workspace/netpyne/hdmea_simulations/BurstingPlotDevelopment/nb2_figs/tut_batch_grid\n"
     ]
    }
   ],
   "source": [
    "import os\n",
    "if not os.path.exists('nb2_figs/tut_batch_grid'):\n",
    "    os.makedirs('nb2_figs/tut_batch_grid')\n",
    "os.chdir(os.getcwd() + '/nb2_figs/tut_batch_grid')\n",
    "print(os.getcwd())"
   ]
  },
  {
   "cell_type": "code",
   "execution_count": null,
   "metadata": {},
   "outputs": [],
   "source": [
    "#imports and functions\n",
    "from netpyne import specs, sim\n"
   ]
  },
  {
   "cell_type": "code",
   "execution_count": null,
   "metadata": {},
   "outputs": [],
   "source": [
    "#Define Parameter Space\n",
    "## Network parameters\n",
    "\n",
    "#Population Parameter held constant\n",
    "netParams = specs.NetParams()  # object of class NetParams to store the network parameters\n",
    "\n",
    "netParams.sizeX = 4000              # x-dimension (horizontal length) size in um\n",
    "netParams.sizeY = 2000             # y-dimension (vertical height or cortical depth) size in um\n",
    "netParams.sizeZ = 0              # z-dimension (horizontal length) size in um\n",
    "\n",
    "## Population parameters\n",
    "netParams.popParams['E'] = {\n",
    "    'cellType': 'E', \n",
    "    'numCells': 200, \n",
    "    'yRange': [100,1900], \n",
    "    'xRange': [100,3900]}\n",
    "netParams.popParams['I'] = {\n",
    "    'cellType': 'I', \n",
    "    'numCells': 200, \n",
    "    'yRange': [100,1900], \n",
    "    'xRange': [100,3900]}\n",
    "\n",
    "# Simulation options\n",
    "cfg = specs.SimConfig()     # object of class SimConfig to store simulation configuration\n",
    "\n",
    "seconds = 1\n",
    "cfg.duration = seconds*1e3        # Duration of the simulation, in ms\n",
    "cfg.dt = 0.025              # Internal integration timestep to use\n",
    "cfg.verbose = False         # Show detailed messages\n",
    "cfg.recordTraces = {'V_soma':{'sec':'soma','loc':0.5,'var':'v'}}  # Dict with traces to record\n",
    "cfg.recordStep = 0.1        # Step size in ms to save data (eg. V traces, LFP, etc)\n",
    "cfg.filename = 'tut8'       # Set file output name\n",
    "cfg.saveJson = True\n",
    "cfg.printPopAvgRates = True\n",
    "cfg.analysis['plotRaster'] = {'saveFig': True}                   # Plot a raster\n",
    "cfg.analysis['plotTraces'] = {'include': [0], 'saveFig': True}  # Plot recorded traces for this list of cells\n",
    "\n",
    "cfg.saveDataInclude = ['simData', 'simConfig', 'netParams', 'net']\n",
    "\n",
    "# Variable parameters (used in netParams)\n",
    "cfg.synMechTau2 = 5\n",
    "cfg.connWeight = 0.01\n",
    "\n",
    "# Network parameters\n",
    "netParams = specs.NetParams()  # object of class NetParams to store the network parameters\n",
    "\n",
    "## Cell parameters/rules\n",
    "PYRcell = {'secs': {}}\n",
    "PYRcell['secs']['soma'] = {'geom': {}, 'mechs': {}}  # soma params dict\n",
    "PYRcell['secs']['soma']['geom'] = {'diam': 18.8, 'L': 18.8, 'Ra': 123.0}  # soma geometry\n",
    "PYRcell['secs']['soma']['mechs']['hh'] = {'gnabar': 0.12, 'gkbar': 0.036, 'gl': 0.003, 'el': -70}  # soma hh mechanism\n",
    "netParams.cellParams['PYR'] = PYRcell\n",
    "\n",
    "## Population parameters\n",
    "netParams.popParams['S'] = {'cellType': 'PYR', 'numCells': 20}\n",
    "netParams.popParams['M'] = {'cellType': 'PYR', 'numCells': 20}\n",
    "\n",
    "## Synaptic mechanism parameters\n",
    "netParams.synMechParams['exc'] = {'mod': 'Exp2Syn', 'tau1': 0.1, 'tau2': cfg.synMechTau2, 'e': 0}  # excitatory synaptic mechanism\n",
    "\n",
    "# Stimulation parameters\n",
    "netParams.stimSourceParams['bkg'] = {'type': 'NetStim', 'rate': 10, 'noise': 0.5}\n",
    "netParams.stimTargetParams['bkg->PYR'] = {'source': 'bkg', 'conds': {'cellType': 'PYR'}, 'weight': 0.01, 'delay': 5, 'synMech': 'exc'}\n",
    "\n",
    "## Cell connectivity rules\n",
    "netParams.connParams['S->M'] = {    #  S -> M label\n",
    "    'preConds': {'pop': 'S'},       # conditions of presyn cells\n",
    "    'postConds': {'pop': 'M'},      # conditions of postsyn cells\n",
    "    'probability': 0.5,             # probability of connection\n",
    "    'weight': cfg.connWeight,       # synaptic weight\n",
    "    'delay': 5,                     # transmission delay (ms)\n",
    "    'synMech': 'exc'}               # synaptic mechanism\n"
   ]
  },
  {
   "cell_type": "code",
   "execution_count": null,
   "metadata": {},
   "outputs": [],
   "source": [
    "# #Define Parameter Space\n",
    "# from netpyne import specs\n",
    "\n",
    "# # Create variable of type ordered dictionary (NetPyNE's customized version)\n",
    "# params = specs.ODict()\n",
    "\n",
    "# # fill in with parameters to explore and range of values (key has to coincide with a variable in simConfig)\n",
    "# params['synMechTau2'] = [3.0, 5.0, 7.0, 12]\n",
    "# params['connWeight'] = [0.005, 0.01, 0.15, 0.20]\n",
    "\n",
    "# Create variable of type ordered dictionary (NetPyNE's customized version)\n",
    "params = specs.ODict()\n",
    "\n",
    "# fill in with parameters to explore and range of values (key has to coincide with a variable in simConfig)\n",
    "params['synMechTau2'] = list(range(1, 21))  # range from 1 to 20\n",
    "params['connWeight'] = [x / 1000.0 for x in range(1, 1001)]  # range from 0.001 to 1\n",
    "netParams.propVelocity = list(range(1, 1001))  # range from 0.1 to 1000 um/ms\n",
    "netParams.probLengthConst = list(range(50, 501))  # range from 50 to 500 um"
   ]
  },
  {
   "cell_type": "code",
   "execution_count": null,
   "metadata": {},
   "outputs": [],
   "source": []
  }
 ],
 "metadata": {
  "kernelspec": {
   "display_name": "mycondaenv",
   "language": "python",
   "name": "python3"
  },
  "language_info": {
   "codemirror_mode": {
    "name": "ipython",
    "version": 3
   },
   "file_extension": ".py",
   "mimetype": "text/x-python",
   "name": "python",
   "nbconvert_exporter": "python",
   "pygments_lexer": "ipython3",
   "version": "3.11.4"
  }
 },
 "nbformat": 4,
 "nbformat_minor": 2
}

{
 "cells": [
  {
   "cell_type": "code",
   "execution_count": null,
   "metadata": {},
   "outputs": [],
   "source": [
    "# '''create new ipython kernel if needed'''\n",
    "# !python -m ipykernel install --user --name=axonenv\n",
    "import sys\n",
    "import os\n",
    "print(sys.executable)\n",
    "os.getcwd()\n",
    "os.chdir('/data')\n",
    "print(os.getcwd())"
   ]
  },
  {
   "cell_type": "code",
   "execution_count": 5,
   "metadata": {},
   "outputs": [],
   "source": [
    "def get_list_of_h5_files(h5_parent_dirs, allowed_scan_types=None, **kwargs):\n",
    "    if allowed_scan_types is None:\n",
    "        allowed_scan_types = kwargs['sorting_params']['allowed_scan_types'][0]\n",
    "    \n",
    "    # Walk through h5_parent_dirs, get all .h5 files and make a list\n",
    "    h5_files = []\n",
    "    for h5_parent_dir in h5_parent_dirs:\n",
    "        if h5_parent_dir.endswith('.h5') and allowed_scan_types in h5_parent_dir:\n",
    "            h5_files.append(h5_parent_dir)  # if h5_parent_dir is an .h5 file, add it to the list\n",
    "            continue  # if h5_parent_dir is an .h5 file, skip the loop\n",
    "        for root, dirs, files in os.walk(h5_parent_dir):\n",
    "            for file in files:\n",
    "                if file.endswith('.h5') and allowed_scan_types in root:\n",
    "                    h5_files.append(os.path.join(root, file))\n",
    "    return h5_files"
   ]
  },
  {
   "cell_type": "code",
   "execution_count": null,
   "metadata": {},
   "outputs": [],
   "source": [
    "allowed_scan_types = 'AxonTracking'\n",
    "h5_parent_dirs = [\n",
    "    '/data/'\n",
    "    ]\n",
    "h5_files = get_list_of_h5_files(h5_parent_dirs, allowed_scan_types=allowed_scan_types)\n",
    "for h5_file in h5_files:\n",
    "    conditions = [\n",
    "        'Footprint' not in h5_file,\n",
    "        '/analysis/' not in h5_file,\n",
    "    ]\n",
    "    #if 'KCNT1' in h5_file: print(h5_file)\n",
    "    if 'CDKL5' in h5_file: print(h5_file)\n",
    "    #if 'Human' in h5_file: print(h5_file)\n",
    "    # if 'Footprint' not in h5_file: print(h5_file)\n",
    "    # if '/analysis/' not in h5_file: print(h5_file)\n",
    "    if all(conditions): print(h5_file)\n"
   ]
  },
  {
   "cell_type": "code",
   "execution_count": null,
   "metadata": {},
   "outputs": [],
   "source": []
  }
 ],
 "metadata": {
  "kernelspec": {
   "display_name": "axonenv",
   "language": "python",
   "name": "python3"
  },
  "language_info": {
   "codemirror_mode": {
    "name": "ipython",
    "version": 3
   },
   "file_extension": ".py",
   "mimetype": "text/x-python",
   "name": "python",
   "nbconvert_exporter": "python",
   "pygments_lexer": "ipython3",
   "version": "3.8.16"
  }
 },
 "nbformat": 4,
 "nbformat_minor": 2
}

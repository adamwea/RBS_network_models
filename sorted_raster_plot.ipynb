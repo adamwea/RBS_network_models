{
 "cells": [
  {
   "cell_type": "code",
   "execution_count": 1,
   "metadata": {},
   "outputs": [
    {
     "name": "stdout",
     "output_type": "stream",
     "text": [
      "data loaded\n"
     ]
    }
   ],
   "source": [
    "import numpy as np\n",
    "\n",
    "#load npz file\n",
    "data_path='experimental_data/KCNT1/wt/spike_array_uncompressed.npz'\n",
    "real_spike_data=np.load(data_path, allow_pickle = True)\n",
    "real_spike_data=real_spike_data['spike_array']\n",
    "print('data loaded')"
   ]
  },
  {
   "cell_type": "code",
   "execution_count": 2,
   "metadata": {},
   "outputs": [
    {
     "ename": "",
     "evalue": "",
     "output_type": "error",
     "traceback": [
      "\u001b[1;31mThe Kernel crashed while executing code in the current cell or a previous cell. \n",
      "\u001b[1;31mPlease review the code in the cell(s) to identify a possible cause of the failure. \n",
      "\u001b[1;31mClick <a href='https://aka.ms/vscodeJupyterKernelCrash'>here</a> for more info. \n",
      "\u001b[1;31mView Jupyter <a href='command:jupyter.viewOutput'>log</a> for further details."
     ]
    }
   ],
   "source": [
    "#add /NERSC/ to the path\n",
    "#import sys\n",
    "#sys.path.append('./NERSC')\n",
    "#from NERSC.plotting_functions import plot_experimental_raster\n",
    "import matplotlib.pyplot as plt\n",
    "\n",
    "def plot_experimental_raster(real_spike_data, sampling_rate=10000, xlim_start=30000, xlim_end=300000):\n",
    "    \"\"\"\n",
    "    Plot a raster plot of spike trains with the top 30% of firing neurons in gold and the rest in light blue.\n",
    "    \n",
    "    Parameters:\n",
    "    - real_spike_data: List of lists or numpy array, each inner list/array represents a spike train.\n",
    "    - sampling_rate: Sampling rate in Hz, default is 10000.\n",
    "    - xlim_start: Start of the x-axis in milliseconds, default is 30000 (30 seconds).\n",
    "    - xlim_end: End of the x-axis in milliseconds, default is 300000 (300 seconds).\n",
    "    \"\"\"\n",
    "    \n",
    "    # Ensure real_spike_data is a numpy array\n",
    "    real_spike_data = np.array(real_spike_data)\n",
    "    \n",
    "    # Sort the spike trains by firing rate, highest to lowest\n",
    "    real_spike_data = sorted(real_spike_data, key=lambda x: np.sum(x), reverse=False)\n",
    "\n",
    "    #clear real_spike_data to conserve RAM...\n",
    "    #real_spike_data = []\n",
    "    \n",
    "    # Convert the sorted list back to a numpy array for plotting\n",
    "    real_spike_data = np.array(real_spike_data)\n",
    "    \n",
    "    # Calculate the threshold for the bottom 70% of firing neurons\n",
    "    num_neurons = len(real_spike_data)\n",
    "    bottom_70_percent_threshold = int(0.7 * num_neurons)\n",
    "    \n",
    "    # Plot raster plot of spike trains\n",
    "    fig, ax = plt.subplots(figsize=(20, 10))\n",
    "    \n",
    "    # Loop through each spike train and plot the spikes\n",
    "    for neuron_id, spike_train in enumerate(real_spike_data):\n",
    "        spike_times = np.where(spike_train == 1)[0] / sampling_rate * 1000  # Convert to milliseconds\n",
    "        color = '#FFD700' if neuron_id > bottom_70_percent_threshold else '#ADD8E6'\n",
    "        ax.vlines(spike_times, neuron_id + 0.5, neuron_id + 1.5, color=color)\n",
    "    \n",
    "    ax.set_xlabel('Time (ms)')\n",
    "    ax.set_ylabel('IPNs')\n",
    "    ax.set_title('Spike Raster Plot')\n",
    "    ax.set_ylim(0, len(real_spike_data) + 0.5)  # Ensure correct y-axis direction\n",
    "    ax.set_xlim(xlim_start, xlim_end)  # Set x-axis limits based on parameters\n",
    "    \n",
    "    plt.show()\n",
    "plot_experimental_raster(real_spike_data, sampling_rate=10000, xlim_start=30000, xlim_end=300000)"
   ]
  },
  {
   "cell_type": "code",
   "execution_count": null,
   "metadata": {},
   "outputs": [],
   "source": []
  },
  {
   "cell_type": "code",
   "execution_count": null,
   "metadata": {},
   "outputs": [],
   "source": [
    "#print(data.shape())"
   ]
  }
 ],
 "metadata": {
  "kernelspec": {
   "display_name": "sims_labserver",
   "language": "python",
   "name": "python3"
  },
  "language_info": {
   "codemirror_mode": {
    "name": "ipython",
    "version": 3
   },
   "file_extension": ".py",
   "mimetype": "text/x-python",
   "name": "python",
   "nbconvert_exporter": "python",
   "pygments_lexer": "ipython3",
   "version": "3.9.19"
  }
 },
 "nbformat": 4,
 "nbformat_minor": 2
}
